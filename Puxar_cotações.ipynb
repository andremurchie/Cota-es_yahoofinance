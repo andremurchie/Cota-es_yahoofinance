{
 "cells": [
  {
   "cell_type": "code",
   "execution_count": null,
   "id": "0a57f230",
   "metadata": {},
   "outputs": [],
   "source": [
    "import pandas as pd\n",
    "import numpy as np\n",
    "import matplotlib.pyplot as plt\n",
    "import pandas_datareader.data as web\n",
    "\n",
    "# as datas devem ter sempre o formato 'AAAA-MM-DD'\n",
    "data_inicio = '2021-01-01'\n",
    "data_final = '2021-09-22'\n",
    "#os códigos devem ser iguais como estão no yahoo finance. Exemplo: '^BVSP','PETR4.SA', 'BRL=X'\n",
    "codigo = ''\n",
    "gráfico = 'd' # 'd'= diario ; 'w'= semanal ; 'm'= mensal\n",
    "\n",
    "cotacoes = web.get_data_yahoo('{}'.format(codigo), start='{}'.format(data_inicio), end='{}'.format(data_final), interval='{}'.format(gráfico))\n",
    "\n",
    "display(cotacoes)"
   ]
  }
 ],
 "metadata": {
  "kernelspec": {
   "display_name": "Python 3",
   "language": "python",
   "name": "python3"
  },
  "language_info": {
   "codemirror_mode": {
    "name": "ipython",
    "version": 3
   },
   "file_extension": ".py",
   "mimetype": "text/x-python",
   "name": "python",
   "nbconvert_exporter": "python",
   "pygments_lexer": "ipython3",
   "version": "3.8.8"
  }
 },
 "nbformat": 4,
 "nbformat_minor": 5
}
